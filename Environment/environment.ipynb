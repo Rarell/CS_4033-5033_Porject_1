{
 "cells": [
  {
   "cell_type": "code",
   "execution_count": 1,
   "metadata": {},
   "outputs": [],
   "source": [
    "%matplotlib notebook\n",
    "import numpy as np\n",
    "import ipywidgets as widgets\n",
    "import matplotlib.pyplot as plt\n",
    "import matplotlib.image as mpimg\n",
    "from matplotlib.widgets import Button\n",
    "import matplotlib.lines as mlines"
   ]
  },
  {
   "cell_type": "code",
   "execution_count": 58,
   "metadata": {},
   "outputs": [],
   "source": [
    "class EnvironmentState:\n",
    "    REGION_WIDTH = 2\n",
    "    REGION_HEIGHT = 2\n",
    "    AGENT_X = 0.9\n",
    "    \n",
    "    def __init__(self):\n",
    "        self._agent_state_index = (0,0)\n",
    "        self._agent_position_x = self.AGENT_X\n",
    "        self._agent_position_y = 0\n",
    "        self._agent_aiming_angle = 180\n",
    "        self._target_center_x = 0\n",
    "        self._target_center_y = 0\n",
    "        self._target_height = self.REGION_HEIGHT/10\n",
    "        \n",
    "    def randomize(self, seed=None):\n",
    "        self.draw()\n",
    "    \n",
    "    def action_wait(self):\n",
    "        print('wait')\n",
    "        self.draw()\n",
    "    \n",
    "    def action_pos_up(self):\n",
    "        self._agent_position_y = self._agent_position_y + 0.05\n",
    "        self.draw()\n",
    "    \n",
    "    def action_pos_down(self):\n",
    "        self._agent_position_y = self._agent_position_y - 0.05\n",
    "        self.draw()\n",
    "    \n",
    "    def action_aim_up(self):\n",
    "        self._agent_aiming_angle = self._agent_aiming_angle - 3\n",
    "        self.draw()\n",
    "    \n",
    "    def action_aim_down(self):\n",
    "        self._agent_aiming_angle = self._agent_aiming_angle + 3\n",
    "        self.draw()\n",
    "    \n",
    "    def draw(self, draw_aiming_ray=False):\n",
    "        ax = plt.gca()\n",
    "        ax.clear()\n",
    "        plt.title('Visualization')\n",
    "        ax.set_xbound([-self.REGION_WIDTH/2,  self.REGION_WIDTH/2])\n",
    "        ax.set_ybound([-self.REGION_HEIGHT/2, self.REGION_HEIGHT/2])\n",
    "         \n",
    "        agent = plt.Circle(\n",
    "            (self._agent_position_x, self._agent_position_y), \n",
    "            self.REGION_WIDTH/50, \n",
    "            color='r'\n",
    "        )\n",
    "        ax.add_artist(agent)\n",
    "        \n",
    "        span = np.sqrt(self.REGION_WIDTH^2 + self.REGION_HEIGHT^2)\n",
    "        rx = 10*span*np.cos(np.deg2rad(self._agent_aiming_angle))\n",
    "        ry = 10*span*np.sin(np.deg2rad(self._agent_aiming_angle))\n",
    "        l = mlines.Line2D(\n",
    "            [self._agent_position_x, self._agent_position_x + rx],\n",
    "            [self._agent_position_y, self._agent_position_y + ry]\n",
    "        )\n",
    "        ax.add_line(l)\n",
    "        \n",
    "        l = mlines.Line2D(\n",
    "            [self._target_center_x, self._target_center_x],\n",
    "            [self._target_center_y-self._target_height/2, self._target_center_y+self._target_height/2]\n",
    "        )\n",
    "        ax.add_line(l)\n",
    "        \n",
    "        \n",
    "        "
   ]
  },
  {
   "cell_type": "code",
   "execution_count": 59,
   "metadata": {},
   "outputs": [
    {
     "data": {
      "application/vnd.jupyter.widget-view+json": {
       "model_id": "6501072095744bdfa169dd6a8d69882e",
       "version_major": 2,
       "version_minor": 0
      },
      "text/plain": [
       "HBox(children=(VBox(children=(Button(description='Pos+', style=ButtonStyle()), Button(description='Pos-', styl…"
      ]
     },
     "metadata": {},
     "output_type": "display_data"
    }
   ],
   "source": [
    "env = EnvironmentState()\n",
    "\n",
    "apup   = widgets.Button(description='Pos+')\n",
    "apdown = widgets.Button(description='Pos-')\n",
    "aaup   = widgets.Button(description='Aim+')\n",
    "aadown = widgets.Button(description='Aim-')\n",
    "\n",
    "canvas = widgets.Output()\n",
    "buttons = widgets.VBox(children=[apup, apdown, aaup, aadown])\n",
    "all_widgets = widgets.HBox(children=[buttons, canvas])\n",
    "display(all_widgets)\n",
    "\n",
    "apup.on_click(lambda x: env.action_pos_up())\n",
    "apdown.on_click(lambda x: env.action_pos_down())\n",
    "aaup.on_click(lambda x: env.action_aim_up())\n",
    "aadown.on_click(lambda x: env.action_aim_down())\n",
    "\n",
    "with canvas:\n",
    "    plt.figure(figsize=(4,4))\n",
    "    env.draw()\n",
    "    plt.show()"
   ]
  },
  {
   "cell_type": "code",
   "execution_count": null,
   "metadata": {},
   "outputs": [],
   "source": [
    "np.rad2deg"
   ]
  }
 ],
 "metadata": {
  "kernelspec": {
   "display_name": "Python 3",
   "language": "python",
   "name": "python3"
  },
  "language_info": {
   "codemirror_mode": {
    "name": "ipython",
    "version": 3
   },
   "file_extension": ".py",
   "mimetype": "text/x-python",
   "name": "python",
   "nbconvert_exporter": "python",
   "pygments_lexer": "ipython3",
   "version": "3.7.0"
  }
 },
 "nbformat": 4,
 "nbformat_minor": 1
}
