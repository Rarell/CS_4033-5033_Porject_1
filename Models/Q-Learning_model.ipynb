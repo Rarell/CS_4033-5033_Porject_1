{
 "cells": [
  {
   "cell_type": "code",
   "execution_count": 2,
   "metadata": {},
   "outputs": [
    {
     "data": {
      "application/vnd.jupyter.widget-view+json": {
       "model_id": "cf9ece507bd04ca2bbbdb9464296cc86",
       "version_major": 2,
       "version_minor": 0
      },
      "text/plain": [
       "HBox(children=(VBox(children=(Button(description='Pos+', style=ButtonStyle()), Button(description='Pos-', styl…"
      ]
     },
     "metadata": {},
     "output_type": "display_data"
    }
   ],
   "source": [
    "# Import libraries\n",
    "import os, sys, warnings\n",
    "import numpy as np\n",
    "import matplotlib.pyplot as plt\n",
    "\n",
    "#sys.path.append('../Environment/')\n",
    "#from Environment.environment import *\n",
    "%run ../Environment/environment.ipynb"
   ]
  },
  {
   "cell_type": "code",
   "execution_count": 2,
   "metadata": {},
   "outputs": [],
   "source": [
    "# # Initialize some variables\n",
    "\n",
    "# # Restart the environment\n",
    "# env = EnvironmentState()\n",
    "\n",
    "# NUM_ACTIONS = 5\n",
    "# ACTIONS = np.asarray([0, 1, 2, 3, 4])\n",
    "\n",
    "# NUM_POSITIONS = (env.REGION_HEIGHT/0.05)+1\n",
    "# NUM_ANGLES    = ((258-102)/3)+1                               # Evironment states include a \n",
    "#                                                               # range of angles (102 to 258)\n",
    "# POS_STATES = np.zeros((int(NUM_POSITIONS), int(NUM_ANGLES)))  # for every y position the agent\n",
    "# ANG_STATES = np.zeros((int(NUM_POSITIONS), int(NUM_ANGLES)))  # can occupy\n",
    "\n",
    "# # Fill the state values\n",
    "# for i in range(int(NUM_ANGLES)):\n",
    "#     POS_STATES[:,i] = np.arange(-1*env.REGION_HEIGHT/2, env.REGION_HEIGHT/2+0.05, 0.05)\n",
    "\n",
    "# for i in range(int(NUM_POSITIONS)):\n",
    "#     ANG_STATES[i,:] = np.arange(102, 258+3, 3)\n",
    "\n",
    "# # Initialize the Q values\n",
    "# Q = np.zeros((int(NUM_POSITIONS), int(NUM_ANGLES), int(NUM_ACTIONS)))\n",
    "\n",
    "# # Resize the states and Q values for easier searching, intersections, and copmarisons\n",
    "# POS_STATES = np.round(POS_STATES.reshape(int(NUM_POSITIONS*NUM_ANGLES), order = 'F'), 2)\n",
    "# ANG_STATES = ANG_STATES.reshape(int(NUM_POSITIONS*NUM_ANGLES), order = 'F')\n",
    "# Q = Q.reshape(int(NUM_POSITIONS*NUM_ANGLES), NUM_ACTIONS, order = 'F')\n",
    "\n",
    "# # Now Q is a state x action matrix\n",
    "# # Column 1 is wait action, 2 is pos up, 3 is pos down, 4 is aim up, 5 is aim down\n",
    "# # Each row corresponds to a (pos & angle) state\""
   ]
  },
  {
   "cell_type": "code",
   "execution_count": 3,
   "metadata": {},
   "outputs": [],
   "source": [
    "# Initialize some variables\n",
    "\n",
    "# Restart the environment\n",
    "env = EnvironmentState()\n",
    "#env.target_hit_reward = 100\n",
    "#env.obstruction_hit_reward = -1\n",
    "#env.no_hit_reward = -0.1\n",
    "\n",
    "NUM_ACTIONS = 5 # Define the actions\n",
    "ACTIONS = np.asarray([0, 1, 2, 3, 4])\n",
    "\n",
    "# Define the state space, defined to be the possible y positions of te agent.\n",
    "NUM_STATES = (env.REGION_HEIGHT/0.05)+1\n",
    "STATES = np.round(np.arange(-1*env.REGION_HEIGHT/2, env.REGION_HEIGHT/2+0.05, 0.05),2)\n",
    "\n",
    "# Initialize the Q values\n",
    "Q = np.zeros((int(NUM_STATES), int(NUM_ACTIONS)))\n",
    "\n",
    "# Q is a state x action matrix\n",
    "# Column 1 is wait action, 2 is pos up, 3 is pos down, 4 is aim up, 5 is aim down\n",
    "# Each row corresponds to a pos state"
   ]
  },
  {
   "cell_type": "code",
   "execution_count": 4,
   "metadata": {},
   "outputs": [
    {
     "name": "stdout",
     "output_type": "stream",
     "text": [
      "0.661\n"
     ]
    },
    {
     "data": {
      "image/png": "[encoded data removed]",
      "text/plain": [
       "<Figure size 432x288 with 1 Axes>"
      ]
     },
     "metadata": {
      "needs_background": "light"
     },
     "output_type": "display_data"
    }
   ],
   "source": [
    "# Initialize parameters\n",
    "NUM_OBS = 1 # Number of obstacles\n",
    "NUM_STEPS = 100 # Number of steps in an episode\n",
    "NUM_EPISODES = 1000\n",
    "\n",
    "alphas = [0.02] #, 0.05]\n",
    "\n",
    "eps   = 0.01\n",
    "gamma = 0.90\n",
    "#episode = 0\n",
    "hits = np.zeros((NUM_EPISODES))\n",
    "R_SUM = np.zeros((NUM_EPISODES))\n",
    "VAR   = np.zeros((NUM_EPISODES))\n",
    "\n",
    "trials = {alpha:{} for alpha in alphas}\n",
    "\n",
    "for alpha in alphas:\n",
    "    # Q is a state x action matrix\n",
    "    # Column 1 is wait action, 2 is pos up, 3 is pos down, 4 is aim up, 5 is aim down\n",
    "    # Each row corresponds to a pos state\n",
    "    Q = np.zeros((int(NUM_STATES), int(NUM_ACTIONS)))\n",
    "    hits  = np.zeros((NUM_EPISODES))\n",
    "    R_SUM = np.zeros((NUM_EPISODES))\n",
    "    VAR   = np.zeros((NUM_EPISODES))\n",
    "    \n",
    "    # Use a Q-Learning algorithm based on the algorithm on page 131 of Sutton and Barto.\n",
    "    for episode in range(NUM_EPISODES):\n",
    "        env.initialize()\n",
    "        env.centered_obstruction()\n",
    "        #env.randomize_obstruction(NUM_OBS)\n",
    "        #env.randomize_agent()\n",
    "        #env.randomize_target()\n",
    "        #env.randomize(NUM_OBS)\n",
    "        R_vector = np.zeros((NUM_STEPS))\n",
    "        n = 0\n",
    "        while True:\n",
    "            # Find the current state\n",
    "            #s = np.where( (POS_STATES == np.round(env._agent_position_y,2)) & (ANG_STATES == env._agent_aiming_angle) )[0]\n",
    "            s = np.where(STATES == np.round(env._agent_position_y,2))[0]\n",
    "\n",
    "            # Create a policy based on epsilon greedy\n",
    "            if len(np.unique(Q[s,:])) <= 1: # If all Q values are same, set policy to equal for all actions\n",
    "                pi = np.zeros((NUM_ACTIONS))\n",
    "                pi[:] = 1/NUM_ACTIONS\n",
    "            elif len(np.unique(Q[s,:])) <= 4: # If multiple Q have a max, assign priority to the first max Q value\n",
    "                pi = np.asarray([((1 - eps) + eps/NUM_ACTIONS if Q[s,i]==np.max(Q[s,:]) else eps/NUM_ACTIONS) for i in range(NUM_ACTIONS)])\n",
    "                ind = np.where(pi == np.max(pi))[0]\n",
    "                pi[ind[1:]] = eps/NUM_ACTIONS\n",
    "            else:\n",
    "                pi = np.asarray([((1 - eps) + eps/NUM_ACTIONS if Q[s,i]==np.max(Q[s,:]) else eps/NUM_ACTIONS) for i in range(NUM_ACTIONS)])\n",
    "    \n",
    "            # Choose and take an action based on policy\n",
    "            action = np.random.choice(ACTIONS, replace = True, p = pi)\n",
    "            env.take_action(action)\n",
    "    \n",
    "            # With the action taken, the agent is now in the future state s'. Find that state\n",
    "            #s_prime = np.where( (POS_STATES == np.round(env._agent_position_y,2)) & (ANG_STATES == env._agent_aiming_angle) )[0]\n",
    "            s_prime = np.where(STATES == np.round(env._agent_position_y,2))[0]\n",
    "    \n",
    "                # Collect the reward\n",
    "            R = env.compute_reward()\n",
    "            R_vector[n] = R\n",
    "    \n",
    "            # Update the Q value\n",
    "            if len(np.unique(Q[s_prime,:])) <= 1: # If all Q values are the same, use any one\n",
    "                Q[s,action] = Q[s,action] + alpha*(R + gamma*Q[s_prime,0] - Q[s,action])\n",
    "            else:\n",
    "                Q[s,action] = Q[s,action] + alpha*(R + gamma*np.max(Q[s_prime,:]) - Q[s,action])\n",
    "    \n",
    "            n = n + 1\n",
    "    \n",
    "            # At the end of the episode, determine if the algorithm hit the target and break\n",
    "            # the loop to move on to the next episode\n",
    "            if n == NUM_STEPS:\n",
    "                hits[episode] = 1 if R == 1 else 0 # If agent is aiming at the target, R is 1.\n",
    "                R_SUM[episode] = np.sum(R_vector)\n",
    "                VAR[episode]  = np.var(R_vector) # For the unbiased case, the RSE is the variance\n",
    "                break\n",
    "\n",
    "    # assemble trial collection\n",
    "    trials[alpha] = dict(\n",
    "        Q=Q,\n",
    "        hits=hits,\n",
    "        R_SUM=R_SUM,\n",
    "        MSE=VAR,\n",
    "    )\n",
    "    \n",
    "# print(hits)\n",
    "print(np.sum(hits)/len(hits))"
   ]
  },
  {
   "cell_type": "code",
   "execution_count": 5,
   "metadata": {},
   "outputs": [
    {
     "data": {
      "text/plain": [
       "<Figure size 432x288 with 0 Axes>"
      ]
     },
     "metadata": {},
     "output_type": "display_data"
    },
    {
     "data": {
      "image/png": "[encoded data removed]",
      "text/plain": [
       "<Figure size 864x1296 with 3 Axes>"
      ]
     },
     "metadata": {
      "needs_background": "light"
     },
     "output_type": "display_data"
    },
    {
     "data": {
      "text/plain": [
       "<Figure size 432x288 with 0 Axes>"
      ]
     },
     "metadata": {},
     "output_type": "display_data"
    }
   ],
   "source": [
    "for alpha in trials:\n",
    "    alpha_str = '{}'.format(alpha).replace('.','_')\n",
    "    Q = trials[alpha]['Q']\n",
    "    hits = trials[alpha]['hits']\n",
    "    R_SUM = trials[alpha]['R_SUM']\n",
    "    MSE = trials[alpha]['MSE']\n",
    "    \n",
    "    # Example graphs to make:\n",
    "    # Sum of rewards vs. Episodes\n",
    "    # % accuracy vs. Episodes\n",
    "    # RMSE vs. Episodes\n",
    "    plt.figure()\n",
    "    episodes = np.arange(1, NUM_EPISODES+1, 1)\n",
    "\n",
    "    R_Sum_Ave = np.zeros((NUM_EPISODES))\n",
    "    accuracy = np.zeros((NUM_EPISODES))\n",
    "    MSE_Ave = np.zeros((NUM_EPISODES))\n",
    "    \n",
    "    R_Sum_Ave[0] = R_SUM[0]\n",
    "    R_Sum_Ave[1:] = np.asarray([np.sum(R_SUM[:n])/(n+1) for n in range(1, NUM_EPISODES)])\n",
    "    \n",
    "    accuracy[0] = hits[0]\n",
    "    accuracy[1:] = np.asarray([np.sum(hits[:n])/(n+1) for n in range(1, NUM_EPISODES)])\n",
    "    \n",
    "    MSE_Ave[0] = MSE[0]\n",
    "    MSE_Ave[1:] = np.asarray([np.sum(MSE[:n])/(n+1) for n in range(1, NUM_EPISODES)])\n",
    "    \n",
    "    # Make an example graph\n",
    "    fig, axes = plt.subplots(figsize = [12,18], nrows = 3, ncols = 1, sharex = True)\n",
    "    ax1 = axes[0]; ax2 = axes[1]; ax3 = axes[2]\n",
    "    \n",
    "    ax1.plot(episodes, R_Sum_Ave, 'r-')\n",
    "    ax1.set_title('Average Sum of Rewards $\\\\alpha={}$'.format(alpha), fontsize = 14)\n",
    "    \n",
    "    ax2.plot(episodes, accuracy, 'r-')\n",
    "    ax2.set_title('Average Accuracy $\\\\alpha={}$'.format(alpha), fontsize = 14)\n",
    "    \n",
    "    ax3.plot(episodes, MSE_Ave, 'r-')\n",
    "    ax3.set_title('Mean Squared Error of Reward $\\\\alpha={}$'.format(alpha))\n",
    "    ax3.set_xlabel('Episodes', fontsize = 14)\n",
    "    \n",
    "    plt.show(block = False)\n",
    "    plt.savefig('Q-Learning_alpha_{}.png'.format(alpha_str))\n",
    "    \n",
    "    # Write the data to a comma seperated text file for comparison with another algorithm.\n",
    "    # Naming format:\n",
    "    # Q-Learning_alpha_aa.txt\n",
    "    # aa is the learning rate.\n",
    "    # (e.g., 02 means alpha = 0.02)\n",
    "\n",
    "    # Variables saved are:\n",
    "    #   Episodes\n",
    "    #   Hit/Miss for that episode\n",
    "    #   Sum of Rewards for that episode (SR)\n",
    "    #   Mean Square Error (Variance) for that episode (MSE)\n",
    "\n",
    "    # Write the file\n",
    "    f = open('Q-Learning_alpha_{}.txt'.format(alpha_str), 'w')\n",
    "    \n",
    "    # Write the headers\n",
    "    f.write('Episode,Hit,SR,MSE' + '\\n')\n",
    "    \n",
    "    # Write the data\n",
    "    for n in range(NUM_EPISODES):\n",
    "        f.write(str(episodes[n]) + ',' + str(hits[n]) + ',' + str(R_SUM[n]) + ',' + str(MSE[n]) + '\\n')\n",
    "    \n",
    "    # Close the file when finished\n",
    "    f.close()"
   ]
  },
  {
   "cell_type": "code",
   "execution_count": 7,
   "metadata": {},
   "outputs": [],
   "source": [
    "# # Example graphs to make:\n",
    "# # Sum of rewards vs. Episodes\n",
    "# # % accuracy vs. Episodes\n",
    "# # RMSE vs. Episodes\n",
    "    \n",
    "# episodes = np.arange(1, NUM_EPISODES+1, 1)\n",
    "    \n",
    "# R_Sum_Ave = np.zeros((NUM_EPISODES))\n",
    "# accuracy = np.zeros((NUM_EPISODES))\n",
    "# VAR_Ave = np.zeros((NUM_EPISODES))\n",
    "    \n",
    "# R_Sum_Ave[0] = R_SUM[0]\n",
    "# R_Sum_Ave[1:] = np.asarray([np.sum(R_SUM[:n])/(n+1) for n in range(1, NUM_EPISODES)])\n",
    "    \n",
    "# accuracy[0] = hits[0]\n",
    "# accuracy[1:] = np.asarray([np.sum(hits[:n])/(n+1) for n in range(1, NUM_EPISODES)])\n",
    "    \n",
    "# VAR_Ave[0] = VAR[0]\n",
    "# VAR_Ave[1:] = np.asarray([np.sum(VAR[:n])/(n+1) for n in range(1, NUM_EPISODES)])\n",
    "    \n",
    "# # Make an example graph\n",
    "# fig, axes = plt.subplots(figsize = [12,18], nrows = 3, ncols = 1, sharex = True)\n",
    "# ax1 = axes[0]; ax2 = axes[1]; ax3 = axes[2]\n",
    "    \n",
    "# ax1.plot(episodes, R_Sum_Ave, 'r-')\n",
    "# ax1.set_ylabel('Average Sum of Rewards', fontsize = 14)\n",
    "    \n",
    "# ax2.plot(episodes, accuracy, 'r-')\n",
    "# ax2.set_ylabel('Average Accuracy', fontsize = 14)\n",
    "    \n",
    "# ax3.plot(episodes, VAR_Ave, 'r-')\n",
    "# ax3.set_ylabel('Mean Squared Error of Reward')\n",
    "# ax3.set_xlabel('Episodes', fontsize = 14)\n",
    "    \n",
    "# plt.show(block = False)"
   ]
  },
  {
   "cell_type": "code",
   "execution_count": 8,
   "metadata": {},
   "outputs": [],
   "source": [
    "# # Write the data to a comma seperated text file for comparison with another algorithm.\n",
    "# # Naming format:\n",
    "# # Q-Learning_ll_aa.txt\n",
    "# # aa refers to the refers to the learning rate of the model\n",
    "# #   (e.g., 02 is a learning rate of 0.02)\n",
    "# # ll refers to the lambda number, lamba of 0 being normal Q-learning\n",
    "# #   (e.g., 00 is lambda = 0.0, 05 is lambda = 0.5, and 10 is lambda = 1.0)\n",
    "\n",
    "# # Variables saved are:\n",
    "# #   Episodes\n",
    "# #   Hit/Miss for that episode\n",
    "# #   Sum of Rewards for that episode (SR)\n",
    "# #   Mean Square Error (Variance) for that episode (MSE)\n",
    "\n",
    "# # Write the file\n",
    "# f = open('Q-Learning_00_02.txt', 'w')\n",
    "\n",
    "# # Write the file\n",
    "# f = open('Q-Learning_00_05.txt', 'w')\n",
    "\n",
    "# # Write the headers\n",
    "# f.write('Episode,Hit,SR,Variance' + '\\\\n')\n",
    "\n",
    "# # Write the data\n",
    "# for n in range(NUM_EPISODES):\n",
    "#     f.write(str(episodes[n]) + ',' + str(hits[n]) + ',' + str(R_SUM[n]) + ',' + str(VAR[n]) + '\\\\n')\n",
    "    \n",
    "# # Close the file when finished\n",
    "# f.close()"
   ]
  },
  {
   "cell_type": "code",
   "execution_count": null,
   "metadata": {},
   "outputs": [],
   "source": []
  }
 ],
 "metadata": {
  "kernelspec": {
   "display_name": "Python 3",
   "language": "python",
   "name": "python3"
  },
  "language_info": {
   "codemirror_mode": {
    "name": "ipython",
    "version": 3
   },
   "file_extension": ".py",
   "mimetype": "text/x-python",
   "name": "python",
   "nbconvert_exporter": "python",
   "pygments_lexer": "ipython3",
   "version": "3.7.3"
  }
 },
 "nbformat": 4,
 "nbformat_minor": 2
}
